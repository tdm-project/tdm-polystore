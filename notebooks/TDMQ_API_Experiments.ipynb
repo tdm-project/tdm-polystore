{
 "cells": [
  {
   "cell_type": "markdown",
   "metadata": {},
   "source": [
    "# TDMQ API Example\n",
    "\n",
    "\n",
    "Before running this notebook, load the test dataset into the DB server:\n",
    "\n",
    "```\n",
    "docker-compose exec web flask db init\n",
    "docker-compose exec web flask db load /tdmq-dist/data/sensor_types.json\n",
    "docker-compose exec web flask db load /tdmq-dist/data/sensors.json\n",
    "docker-compose exec web flask db load /tdmq-dist/data/measures.json\n",
    "```"
   ]
  },
  {
   "cell_type": "code",
   "execution_count": 5,
   "metadata": {},
   "outputs": [],
   "source": [
    "import requests\n",
    "import json"
   ]
  },
  {
   "cell_type": "code",
   "execution_count": 6,
   "metadata": {},
   "outputs": [],
   "source": [
    "BASE_URL = 'http://web:8000/api/v0.0'"
   ]
  },
  {
   "cell_type": "markdown",
   "metadata": {},
   "source": [
    "## Sensor types"
   ]
  },
  {
   "cell_type": "code",
   "execution_count": 7,
   "metadata": {},
   "outputs": [
    {
     "data": {
      "text/plain": [
       "[{'brandName': 'Acme',\n",
       "  'category': ['sensor'],\n",
       "  'code': 'c7afa96b-ca9a-5561-b57b-5187ad005d75',\n",
       "  'controlledProperty': ['temperature'],\n",
       "  'function': ['sensing'],\n",
       "  'manufacturerName': 'Acme Inc.',\n",
       "  'modelName': 'Acme multisensor DHT11',\n",
       "  'name': 'sensor_type_0',\n",
       "  'type': 'TemperatureSensorDTH11'},\n",
       " {'brandName': 'Acme',\n",
       "  'category': ['sensor'],\n",
       "  'code': '542c74cb-abcc-503e-abc6-d818284551f4',\n",
       "  'controlledProperty': ['humidity'],\n",
       "  'function': ['sensing'],\n",
       "  'manufacturerName': 'Acme Inc.',\n",
       "  'modelName': 'Acme multisensor DHT11',\n",
       "  'name': 'sensor_type_1',\n",
       "  'type': 'HumiditySensorDHT11'},\n",
       " {'brandName': 'ProSensor',\n",
       "  'category': ['sensor'],\n",
       "  'code': '7b8f71df-4517-5ffc-b627-f4b37a49b925',\n",
       "  'controlledProperty': ['humidity', 'temperature'],\n",
       "  'function': ['sensing'],\n",
       "  'manufacturerName': 'CRS4',\n",
       "  'modelName': 'R2D2',\n",
       "  'name': 'sensor_type_2',\n",
       "  'type': 'multisensor'},\n",
       " {'brandName': 'ProSensor',\n",
       "  'category': ['sensor'],\n",
       "  'code': '1d48a1f4-9440-5965-8b2d-809bf529d851',\n",
       "  'controlledProperty': ['power'],\n",
       "  'function': ['sensing'],\n",
       "  'manufacturerName': 'CRS4',\n",
       "  'modelName': 'C3PO',\n",
       "  'name': 'sensor_type_3',\n",
       "  'type': 'power sensor'}]"
      ]
     },
     "execution_count": 7,
     "metadata": {},
     "output_type": "execute_result"
    }
   ],
   "source": [
    "requests.get(f'{BASE_URL}/sensor_types').json()"
   ]
  },
  {
   "cell_type": "code",
   "execution_count": 8,
   "metadata": {},
   "outputs": [
    {
     "data": {
      "text/plain": [
       "[{'brandName': 'Acme',\n",
       "  'category': ['sensor'],\n",
       "  'code': 'c7afa96b-ca9a-5561-b57b-5187ad005d75',\n",
       "  'controlledProperty': ['temperature'],\n",
       "  'function': ['sensing'],\n",
       "  'manufacturerName': 'Acme Inc.',\n",
       "  'modelName': 'Acme multisensor DHT11',\n",
       "  'name': 'sensor_type_0',\n",
       "  'type': 'TemperatureSensorDTH11'},\n",
       " {'brandName': 'ProSensor',\n",
       "  'category': ['sensor'],\n",
       "  'code': '7b8f71df-4517-5ffc-b627-f4b37a49b925',\n",
       "  'controlledProperty': ['humidity', 'temperature'],\n",
       "  'function': ['sensing'],\n",
       "  'manufacturerName': 'CRS4',\n",
       "  'modelName': 'R2D2',\n",
       "  'name': 'sensor_type_2',\n",
       "  'type': 'multisensor'}]"
      ]
     },
     "execution_count": 8,
     "metadata": {},
     "output_type": "execute_result"
    }
   ],
   "source": [
    "args = {\"controlledProperty\": \"temperature\"}\n",
    "requests.get(f'{BASE_URL}/sensor_types', params=args).json()"
   ]
  },
  {
   "cell_type": "code",
   "execution_count": 9,
   "metadata": {},
   "outputs": [
    {
     "data": {
      "text/plain": [
       "[{'brandName': 'Acme',\n",
       "  'category': ['sensor'],\n",
       "  'code': 'c7afa96b-ca9a-5561-b57b-5187ad005d75',\n",
       "  'controlledProperty': ['temperature'],\n",
       "  'function': ['sensing'],\n",
       "  'manufacturerName': 'Acme Inc.',\n",
       "  'modelName': 'Acme multisensor DHT11',\n",
       "  'name': 'sensor_type_0',\n",
       "  'type': 'TemperatureSensorDTH11'}]"
      ]
     },
     "execution_count": 9,
     "metadata": {},
     "output_type": "execute_result"
    }
   ],
   "source": [
    "args = {\"controlledProperty\": \"temperature\", \"manufacturerName\": \"Acme Inc.\"}\n",
    "requests.get(f'{BASE_URL}/sensor_types', params=args).json()"
   ]
  },
  {
   "cell_type": "code",
   "execution_count": 10,
   "metadata": {
    "scrolled": true
   },
   "outputs": [
    {
     "data": {
      "text/plain": [
       "[{'brandName': 'ProSensor',\n",
       "  'category': ['sensor'],\n",
       "  'code': '7b8f71df-4517-5ffc-b627-f4b37a49b925',\n",
       "  'controlledProperty': ['humidity', 'temperature'],\n",
       "  'function': ['sensing'],\n",
       "  'manufacturerName': 'CRS4',\n",
       "  'modelName': 'R2D2',\n",
       "  'name': 'sensor_type_2',\n",
       "  'type': 'multisensor'}]"
      ]
     },
     "execution_count": 10,
     "metadata": {},
     "output_type": "execute_result"
    }
   ],
   "source": [
    "args = {\"controlledProperty\": \"temperature,humidity\"}\n",
    "requests.get(f'{BASE_URL}/sensor_types', params=args).json()"
   ]
  },
  {
   "cell_type": "markdown",
   "metadata": {},
   "source": [
    "## Sensors"
   ]
  },
  {
   "cell_type": "code",
   "execution_count": 11,
   "metadata": {},
   "outputs": [
    {
     "data": {
      "text/plain": [
       "[{'code': 'c034f147-8e54-50bd-97bb-9db1addcdc5a',\n",
       "  'geometry': {'coordinates': [9.221, 30.0], 'type': 'Point'},\n",
       "  'name': 'sensor_0',\n",
       "  'node': 'node_0',\n",
       "  'type': 'sensor_type_0'},\n",
       " {'code': 'c932ff51-6eec-5b73-abe1-4163f9e72cb3',\n",
       "  'geometry': {'coordinates': [9.222, 30.003], 'type': 'Point'},\n",
       "  'name': 'sensor_1',\n",
       "  'node': 'node_0',\n",
       "  'type': 'sensor_type_1'},\n",
       " {'code': '65617738-e6b0-5c1d-b643-3175f160ee15',\n",
       "  'geometry': {'coordinates': [9.201, 29.6], 'type': 'Point'},\n",
       "  'name': 'sensor_2',\n",
       "  'node': 'node_0',\n",
       "  'type': 'sensor_type_2'},\n",
       " {'code': '38a4d439-11d2-5587-b7ae-8047483a6ab3',\n",
       "  'geometry': {'coordinates': [9.551, 32.0], 'type': 'Point'},\n",
       "  'name': 'sensor_3',\n",
       "  'node': 'node_0',\n",
       "  'type': 'sensor_type_3'},\n",
       " {'code': '005bf7bb-8098-5e06-8fa2-c82430f8df12',\n",
       "  'geometry': {'coordinates': [9.343, 31.2], 'type': 'Point'},\n",
       "  'name': 'sensor_4',\n",
       "  'node': 'node_0',\n",
       "  'type': 'sensor_type_0'},\n",
       " {'code': 'ff9bb74b-5c03-5e5a-917a-1e8454eb825c',\n",
       "  'geometry': {'coordinates': [9.119, 29.0], 'type': 'Point'},\n",
       "  'name': 'sensor_5',\n",
       "  'node': 'node_0',\n",
       "  'type': 'sensor_type_1'}]"
      ]
     },
     "execution_count": 11,
     "metadata": {},
     "output_type": "execute_result"
    }
   ],
   "source": [
    "requests.get(f'{BASE_URL}/sensors').json()"
   ]
  },
  {
   "cell_type": "code",
   "execution_count": 12,
   "metadata": {},
   "outputs": [
    {
     "data": {
      "text/plain": [
       "{'code': 'c034f147-8e54-50bd-97bb-9db1addcdc5a',\n",
       " 'geometry': {'coordinates': [9.221, 30.0], 'type': 'Point'},\n",
       " 'name': 'sensor_0',\n",
       " 'node': 'node_0',\n",
       " 'type': 'sensor_type_0'}"
      ]
     },
     "execution_count": 12,
     "metadata": {},
     "output_type": "execute_result"
    }
   ],
   "source": [
    "code = \"c034f147-8e54-50bd-97bb-9db1addcdc5a\"\n",
    "requests.get(f'{BASE_URL}/sensors/{code}').json()"
   ]
  },
  {
   "cell_type": "markdown",
   "metadata": {},
   "source": [
    "### Sensors by attribute"
   ]
  },
  {
   "cell_type": "code",
   "execution_count": 13,
   "metadata": {},
   "outputs": [
    {
     "data": {
      "text/plain": [
       "[{'code': 'c034f147-8e54-50bd-97bb-9db1addcdc5a',\n",
       "  'geometry': {'coordinates': [9.221, 30.0], 'type': 'Point'},\n",
       "  'name': 'sensor_0',\n",
       "  'node': 'node_0',\n",
       "  'type': 'sensor_type_0'},\n",
       " {'code': '005bf7bb-8098-5e06-8fa2-c82430f8df12',\n",
       "  'geometry': {'coordinates': [9.343, 31.2], 'type': 'Point'},\n",
       "  'name': 'sensor_4',\n",
       "  'node': 'node_0',\n",
       "  'type': 'sensor_type_0'}]"
      ]
     },
     "execution_count": 13,
     "metadata": {},
     "output_type": "execute_result"
    }
   ],
   "source": [
    "args = {\"type\": \"sensor_type_0\"}\n",
    "requests.get(f'{BASE_URL}/sensors', params=args).json()"
   ]
  },
  {
   "cell_type": "markdown",
   "metadata": {},
   "source": [
    "### Sensors by area and time interval"
   ]
  },
  {
   "cell_type": "code",
   "execution_count": 14,
   "metadata": {},
   "outputs": [
    {
     "data": {
      "text/plain": [
       "[{'code': 'c034f147-8e54-50bd-97bb-9db1addcdc5a',\n",
       "  'geometry': {'coordinates': [9.221, 30.0], 'type': 'Point'},\n",
       "  'name': 'sensor_0',\n",
       "  'node': 'node_0',\n",
       "  'type': 'sensor_type_0'},\n",
       " {'code': 'c932ff51-6eec-5b73-abe1-4163f9e72cb3',\n",
       "  'geometry': {'coordinates': [9.222, 30.003], 'type': 'Point'},\n",
       "  'name': 'sensor_1',\n",
       "  'node': 'node_0',\n",
       "  'type': 'sensor_type_1'}]"
      ]
     },
     "execution_count": 14,
     "metadata": {},
     "output_type": "execute_result"
    }
   ],
   "source": [
    "args = {\n",
    "    'footprint': 'circle((9.2215, 30.0015), 1000)',\n",
    "    'after': '2019-05-02T11:00:00Z',\n",
    "    'before':'2019-05-02T11:50:25Z'\n",
    "}\n",
    "requests.get(f'{BASE_URL}/sensors', params=args).json()"
   ]
  },
  {
   "cell_type": "code",
   "execution_count": 15,
   "metadata": {},
   "outputs": [
    {
     "data": {
      "text/plain": [
       "[]"
      ]
     },
     "execution_count": 15,
     "metadata": {},
     "output_type": "execute_result"
    }
   ],
   "source": [
    "args = {\n",
    "    'footprint': 'circle((9.2215, 30.0015), 1000)',\n",
    "    'after': '2000-05-02T11:00:00Z',\n",
    "    'before':'2000-05-02T11:50:25Z',\n",
    "}\n",
    "requests.get(f'{BASE_URL}/sensors', args).json()"
   ]
  },
  {
   "cell_type": "markdown",
   "metadata": {},
   "source": [
    "## Time series"
   ]
  },
  {
   "cell_type": "code",
   "execution_count": 16,
   "metadata": {},
   "outputs": [
    {
     "data": {
      "text/plain": [
       "{'data': [0.022, 0.122, 0.222, 0.322, 0.422, 0.522],\n",
       " 'timebase': '2019-05-02T11:00:00Z',\n",
       " 'timedelta': [0.0, 5.0, 10.0, 15.0, 20.0, 25.0]}"
      ]
     },
     "execution_count": 16,
     "metadata": {},
     "output_type": "execute_result"
    }
   ],
   "source": [
    "args = {\n",
    "    'after': '2019-05-02T11:00:00Z',\n",
    "    'before':'2019-05-02T11:50:25Z'\n",
    "}\n",
    "requests.get(f'{BASE_URL}/sensors/{code}/timeseries', params=args).json()"
   ]
  },
  {
   "cell_type": "code",
   "execution_count": 17,
   "metadata": {},
   "outputs": [
    {
     "data": {
      "text/plain": [
       "{'data': [0.144, 0.544, 0.944],\n",
       " 'timebase': '2019-05-02T11:00:00Z',\n",
       " 'timedelta': [0.0, 10.0, 20.0]}"
      ]
     },
     "execution_count": 17,
     "metadata": {},
     "output_type": "execute_result"
    }
   ],
   "source": [
    "args = {\n",
    "    'bucket': 10,\n",
    "    'op':'sum',\n",
    "    'after': '2019-05-02T11:00:00Z',\n",
    "    'before':'2019-05-02T11:50:25Z'\n",
    "}\n",
    "requests.get(f'{BASE_URL}/sensors/{code}/timeseries', params=args).json()"
   ]
  },
  {
   "cell_type": "code",
   "execution_count": 18,
   "metadata": {},
   "outputs": [
    {
     "data": {
      "text/plain": [
       "{'data': [0.022, 0.122, 0.222, 0.322, 0.422, 0.522],\n",
       " 'timebase': '2019-05-02T11:00:00Z',\n",
       " 'timedelta': [0.0, 4.8, 9.9, 15.0, 19.8, 24.9]}"
      ]
     },
     "execution_count": 18,
     "metadata": {},
     "output_type": "execute_result"
    }
   ],
   "source": [
    "args = {\n",
    "    'bucket': 0.3,\n",
    "    'op':'sum',\n",
    "    'after': '2019-05-02T11:00:00Z',\n",
    "    'before':'2019-05-02T11:50:25Z'\n",
    "}\n",
    "requests.get(f'{BASE_URL}/sensors/{code}/timeseries', params=args).json()"
   ]
  },
  {
   "cell_type": "code",
   "execution_count": null,
   "metadata": {},
   "outputs": [],
   "source": []
  },
  {
   "cell_type": "code",
   "execution_count": null,
   "metadata": {},
   "outputs": [],
   "source": []
  },
  {
   "cell_type": "code",
   "execution_count": null,
   "metadata": {},
   "outputs": [],
   "source": []
  },
  {
   "cell_type": "code",
   "execution_count": null,
   "metadata": {},
   "outputs": [],
   "source": []
  }
 ],
 "metadata": {
  "kernelspec": {
   "display_name": "Python 3",
   "language": "python",
   "name": "python3"
  },
  "language_info": {
   "codemirror_mode": {
    "name": "ipython",
    "version": 3
   },
   "file_extension": ".py",
   "mimetype": "text/x-python",
   "name": "python",
   "nbconvert_exporter": "python",
   "pygments_lexer": "ipython3",
   "version": "3.6.8"
  }
 },
 "nbformat": 4,
 "nbformat_minor": 2
}
