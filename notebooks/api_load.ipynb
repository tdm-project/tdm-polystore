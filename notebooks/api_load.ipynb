{
 "cells": [
  {
   "cell_type": "markdown",
   "metadata": {},
   "source": [
    "# Load data via the API\n",
    "\n",
    "\n",
    "Before running this notebook, initialize the database:\n",
    "\n",
    "```\n",
    "docker-compose exec web flask db init\n",
    "```"
   ]
  },
  {
   "cell_type": "code",
   "execution_count": 1,
   "metadata": {},
   "outputs": [],
   "source": [
    "import requests\n",
    "import json\n",
    "import os"
   ]
  },
  {
   "cell_type": "code",
   "execution_count": 2,
   "metadata": {},
   "outputs": [],
   "source": [
    "BASE_URL = \"http://web:8000/api/v0.0\"\n",
    "data_dir = os.getenv(\"DATA_DIR\")"
   ]
  },
  {
   "cell_type": "markdown",
   "metadata": {},
   "source": [
    "## Load sensor types"
   ]
  },
  {
   "cell_type": "code",
   "execution_count": 4,
   "metadata": {},
   "outputs": [
    {
     "data": {
      "text/plain": [
       "[{'type': 'TemperatureSensorDTH11',\n",
       "  'name': 'sensor_type_0',\n",
       "  'brandName': 'Acme',\n",
       "  'modelName': 'Acme multisensor DHT11',\n",
       "  'manufacturerName': 'Acme Inc.',\n",
       "  'category': ['sensor'],\n",
       "  'function': ['sensing'],\n",
       "  'controlledProperty': ['temperature']},\n",
       " {'type': 'HumiditySensorDHT11',\n",
       "  'name': 'sensor_type_1',\n",
       "  'brandName': 'Acme',\n",
       "  'modelName': 'Acme multisensor DHT11',\n",
       "  'manufacturerName': 'Acme Inc.',\n",
       "  'category': ['sensor'],\n",
       "  'function': ['sensing'],\n",
       "  'controlledProperty': ['humidity']},\n",
       " {'type': 'multisensor',\n",
       "  'name': 'sensor_type_2',\n",
       "  'brandName': 'ProSensor',\n",
       "  'modelName': 'R2D2',\n",
       "  'manufacturerName': 'CRS4',\n",
       "  'category': ['sensor'],\n",
       "  'function': ['sensing'],\n",
       "  'controlledProperty': ['humidity', 'temperature']},\n",
       " {'type': 'power sensor',\n",
       "  'name': 'sensor_type_3',\n",
       "  'brandName': 'ProSensor',\n",
       "  'modelName': 'C3PO',\n",
       "  'manufacturerName': 'CRS4',\n",
       "  'category': ['sensor'],\n",
       "  'function': ['sensing'],\n",
       "  'controlledProperty': ['power']}]"
      ]
     },
     "execution_count": 4,
     "metadata": {},
     "output_type": "execute_result"
    }
   ],
   "source": [
    "with open(os.path.join(data_dir, \"sensor_types.json\")) as f:\n",
    "    data = json.load(f)[\"sensor_types\"]\n",
    "data"
   ]
  },
  {
   "cell_type": "code",
   "execution_count": 5,
   "metadata": {},
   "outputs": [
    {
     "ename": "HTTPError",
     "evalue": "500 Server Error: INTERNAL SERVER ERROR for url: http://web:8000/api/v0.0/sensor_types",
     "output_type": "error",
     "traceback": [
      "\u001b[0;31m---------------------------------------------------------------------------\u001b[0m",
      "\u001b[0;31mHTTPError\u001b[0m                                 Traceback (most recent call last)",
      "\u001b[0;32m<ipython-input-5-60efff48dd8d>\u001b[0m in \u001b[0;36m<module>\u001b[0;34m\u001b[0m\n\u001b[1;32m      1\u001b[0m \u001b[0mresponse\u001b[0m \u001b[0;34m=\u001b[0m \u001b[0mrequests\u001b[0m\u001b[0;34m.\u001b[0m\u001b[0mpost\u001b[0m\u001b[0;34m(\u001b[0m\u001b[0;34mf'{BASE_URL}/sensor_types'\u001b[0m\u001b[0;34m,\u001b[0m \u001b[0mjson\u001b[0m\u001b[0;34m=\u001b[0m\u001b[0mdata\u001b[0m\u001b[0;34m)\u001b[0m\u001b[0;34m\u001b[0m\u001b[0;34m\u001b[0m\u001b[0m\n\u001b[0;32m----> 2\u001b[0;31m \u001b[0mresponse\u001b[0m\u001b[0;34m.\u001b[0m\u001b[0mraise_for_status\u001b[0m\u001b[0;34m(\u001b[0m\u001b[0;34m)\u001b[0m\u001b[0;34m\u001b[0m\u001b[0;34m\u001b[0m\u001b[0m\n\u001b[0m\u001b[1;32m      3\u001b[0m \u001b[0mcodes\u001b[0m \u001b[0;34m=\u001b[0m \u001b[0mresponse\u001b[0m\u001b[0;34m.\u001b[0m\u001b[0mjson\u001b[0m\u001b[0;34m(\u001b[0m\u001b[0;34m)\u001b[0m\u001b[0;34m\u001b[0m\u001b[0;34m\u001b[0m\u001b[0m\n\u001b[1;32m      4\u001b[0m \u001b[0mcodes\u001b[0m\u001b[0;34m\u001b[0m\u001b[0;34m\u001b[0m\u001b[0m\n",
      "\u001b[0;32m/usr/local/lib/python3.6/dist-packages/requests/models.py\u001b[0m in \u001b[0;36mraise_for_status\u001b[0;34m(self)\u001b[0m\n\u001b[1;32m    938\u001b[0m \u001b[0;34m\u001b[0m\u001b[0m\n\u001b[1;32m    939\u001b[0m         \u001b[0;32mif\u001b[0m \u001b[0mhttp_error_msg\u001b[0m\u001b[0;34m:\u001b[0m\u001b[0;34m\u001b[0m\u001b[0;34m\u001b[0m\u001b[0m\n\u001b[0;32m--> 940\u001b[0;31m             \u001b[0;32mraise\u001b[0m \u001b[0mHTTPError\u001b[0m\u001b[0;34m(\u001b[0m\u001b[0mhttp_error_msg\u001b[0m\u001b[0;34m,\u001b[0m \u001b[0mresponse\u001b[0m\u001b[0;34m=\u001b[0m\u001b[0mself\u001b[0m\u001b[0;34m)\u001b[0m\u001b[0;34m\u001b[0m\u001b[0;34m\u001b[0m\u001b[0m\n\u001b[0m\u001b[1;32m    941\u001b[0m \u001b[0;34m\u001b[0m\u001b[0m\n\u001b[1;32m    942\u001b[0m     \u001b[0;32mdef\u001b[0m \u001b[0mclose\u001b[0m\u001b[0;34m(\u001b[0m\u001b[0mself\u001b[0m\u001b[0;34m)\u001b[0m\u001b[0;34m:\u001b[0m\u001b[0;34m\u001b[0m\u001b[0;34m\u001b[0m\u001b[0m\n",
      "\u001b[0;31mHTTPError\u001b[0m: 500 Server Error: INTERNAL SERVER ERROR for url: http://web:8000/api/v0.0/sensor_types"
     ]
    }
   ],
   "source": [
    "response = requests.post(f'{BASE_URL}/sensor_types', json=data)\n",
    "response.raise_for_status()\n",
    "codes = response.json()\n",
    "codes"
   ]
  },
  {
   "cell_type": "code",
   "execution_count": 4,
   "metadata": {},
   "outputs": [],
   "source": [
    "sensor_types = requests.get(f'{BASE_URL}/sensor_types').json()\n",
    "assert set(_[\"code\"] for _ in sensor_types) == set(codes)"
   ]
  },
  {
   "cell_type": "markdown",
   "metadata": {},
   "source": [
    "## Load sensors"
   ]
  },
  {
   "cell_type": "code",
   "execution_count": 5,
   "metadata": {},
   "outputs": [
    {
     "data": {
      "text/plain": [
       "['c034f147-8e54-50bd-97bb-9db1addcdc5a',\n",
       " 'c932ff51-6eec-5b73-abe1-4163f9e72cb3',\n",
       " '65617738-e6b0-5c1d-b643-3175f160ee15',\n",
       " '38a4d439-11d2-5587-b7ae-8047483a6ab3',\n",
       " '005bf7bb-8098-5e06-8fa2-c82430f8df12',\n",
       " 'ff9bb74b-5c03-5e5a-917a-1e8454eb825c']"
      ]
     },
     "execution_count": 5,
     "metadata": {},
     "output_type": "execute_result"
    }
   ],
   "source": [
    "with open(os.path.join(data_dir, \"sensors.json\")) as f:\n",
    "    data = json.load(f)[\"sensors\"]\n",
    "response = requests.post(f'{BASE_URL}/sensors', json=data)\n",
    "response.raise_for_status()\n",
    "codes = response.json()\n",
    "codes"
   ]
  },
  {
   "cell_type": "code",
   "execution_count": 6,
   "metadata": {},
   "outputs": [
    {
     "data": {
      "text/plain": [
       "{'code': 'c034f147-8e54-50bd-97bb-9db1addcdc5a',\n",
       " 'geometry': {'coordinates': [9.221, 30.0], 'type': 'Point'},\n",
       " 'name': 'sensor_0',\n",
       " 'node': 'node_0',\n",
       " 'type': 'sensor_type_0'}"
      ]
     },
     "execution_count": 6,
     "metadata": {},
     "output_type": "execute_result"
    }
   ],
   "source": [
    "sensors = requests.get(f'{BASE_URL}/sensors').json()\n",
    "assert set(_[\"code\"] for _ in sensors) == set(codes)\n",
    "requests.get(f'{BASE_URL}/sensors/{codes[0]}').json()"
   ]
  },
  {
   "cell_type": "markdown",
   "metadata": {},
   "source": [
    "## Load measures"
   ]
  },
  {
   "cell_type": "code",
   "execution_count": 9,
   "metadata": {},
   "outputs": [
    {
     "data": {
      "text/plain": [
       "{'loaded': 21}"
      ]
     },
     "execution_count": 9,
     "metadata": {},
     "output_type": "execute_result"
    }
   ],
   "source": [
    "with open(os.path.join(data_dir, \"measures.json\")) as f:\n",
    "    data = json.load(f)[\"measures\"]\n",
    "response = requests.post(f'{BASE_URL}/measures', json=data)\n",
    "response.raise_for_status()\n",
    "response.json()"
   ]
  },
  {
   "cell_type": "code",
   "execution_count": 10,
   "metadata": {},
   "outputs": [
    {
     "data": {
      "text/plain": [
       "{'data': [0.022,\n",
       "  0.122,\n",
       "  0.222,\n",
       "  0.322,\n",
       "  0.422,\n",
       "  0.522,\n",
       "  0.022,\n",
       "  0.122,\n",
       "  0.222,\n",
       "  0.322,\n",
       "  0.422,\n",
       "  0.522,\n",
       "  0.022,\n",
       "  0.122,\n",
       "  0.222,\n",
       "  0.322,\n",
       "  0.422,\n",
       "  0.522,\n",
       "  0.022,\n",
       "  0.122,\n",
       "  0.222,\n",
       "  0.322,\n",
       "  0.422,\n",
       "  0.522,\n",
       "  0.022,\n",
       "  0.122,\n",
       "  0.222,\n",
       "  0.322,\n",
       "  0.422,\n",
       "  0.522],\n",
       " 'timebase': '2019-05-02T11:00:00Z',\n",
       " 'timedelta': [0.0,\n",
       "  5.0,\n",
       "  10.0,\n",
       "  15.0,\n",
       "  20.0,\n",
       "  25.0,\n",
       "  0.0,\n",
       "  5.0,\n",
       "  10.0,\n",
       "  15.0,\n",
       "  20.0,\n",
       "  25.0,\n",
       "  0.0,\n",
       "  5.0,\n",
       "  10.0,\n",
       "  15.0,\n",
       "  20.0,\n",
       "  25.0,\n",
       "  0.0,\n",
       "  5.0,\n",
       "  10.0,\n",
       "  15.0,\n",
       "  20.0,\n",
       "  25.0,\n",
       "  0.0,\n",
       "  5.0,\n",
       "  10.0,\n",
       "  15.0,\n",
       "  20.0,\n",
       "  25.0]}"
      ]
     },
     "execution_count": 10,
     "metadata": {},
     "output_type": "execute_result"
    }
   ],
   "source": [
    "code = requests.get(f'{BASE_URL}/sensors').json()[0][\"code\"]\n",
    "args = {\n",
    "    'after': '2019-05-02T11:00:00Z',\n",
    "    'before':'2019-05-02T11:50:25Z'\n",
    "}\n",
    "requests.get(f'{BASE_URL}/sensors/{code}/timeseries', params=args).json()"
   ]
  },
  {
   "cell_type": "code",
   "execution_count": null,
   "metadata": {},
   "outputs": [],
   "source": []
  }
 ],
 "metadata": {
  "kernelspec": {
   "display_name": "Python 3",
   "language": "python",
   "name": "python3"
  },
  "language_info": {
   "codemirror_mode": {
    "name": "ipython",
    "version": 3
   },
   "file_extension": ".py",
   "mimetype": "text/x-python",
   "name": "python",
   "nbconvert_exporter": "python",
   "pygments_lexer": "ipython3",
   "version": "3.6.8"
  }
 },
 "nbformat": 4,
 "nbformat_minor": 2
}
